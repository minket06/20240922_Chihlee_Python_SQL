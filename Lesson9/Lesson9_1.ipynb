{
 "cells": [
  {
   "cell_type": "code",
   "execution_count": null,
   "metadata": {},
   "outputs": [],
   "source": [
    "import requests\n",
    "from pprint import pprint\n",
    "from rich import print\n",
    "from rich.pretty import pretty_repr\n",
    "\n",
    "url = 'https://tcgbusfs.blob.core.windows.net/dotapp/youbike/v2/youbike_immediate.json' \n",
    "response = requests.get(url)\n",
    "type(response)\n",
    "\n",
    "if response.ok:\n",
    "    # print ('下載成功')\n",
    "    pprint (response.text)\n",
    "    # print (response.text)\n",
    "    # print(pretty_repr(response.text))"
   ]
  },
  {
   "cell_type": "code",
   "execution_count": null,
   "metadata": {},
   "outputs": [],
   "source": [
    "float(input(\"請輸入數值\"))"
   ]
  },
  {
   "cell_type": "code",
   "execution_count": null,
   "metadata": {},
   "outputs": [],
   "source": [
    "try:\n",
    "    raise ValueError\n",
    "    print(\"發生在raise之後\")\n",
    "except:\n",
    "    print(\"出錯了\")\n",
    "else:\n",
    "    print(\"沒有錯\")"
   ]
  },
  {
   "cell_type": "code",
   "execution_count": null,
   "metadata": {},
   "outputs": [],
   "source": [
    "import requests\n",
    "from pprint import pprint\n",
    "from rich import print\n",
    "from rich.pretty import pretty_repr\n",
    "\n",
    "url = 'https://tcgbusfs.blob.core.windows.net/dotapp/youbike/v2/youbike_immediate.json' \n",
    "try:\n",
    "    response = requests.get(url)\n",
    "    response.raise_for_status\n",
    "    # type(response)\n",
    "\n",
    "    # if response.ok:\n",
    "    #     # print ('下載成功')\n",
    "    #     pprint (response.text)\n",
    "    #     # print (response.text)\n",
    "    #     # print(pretty_repr(response.text))    \n",
    "except:\n",
    "    print ('出錯了')\n",
    "else:\n",
    "    # print ('下載成功')\n",
    "    # pprint (response.text)\n",
    "    # print (response.json())\n",
    "    # print (type(response.json()))\n",
    "    pprint (response.json())\n",
    "\n"
   ]
  }
 ],
 "metadata": {
  "kernelspec": {
   "display_name": "chihlee_sql",
   "language": "python",
   "name": "python3"
  },
  "language_info": {
   "codemirror_mode": {
    "name": "ipython",
    "version": 3
   },
   "file_extension": ".py",
   "mimetype": "text/x-python",
   "name": "python",
   "nbconvert_exporter": "python",
   "pygments_lexer": "ipython3",
   "version": "3.10.15"
  }
 },
 "nbformat": 4,
 "nbformat_minor": 2
}
