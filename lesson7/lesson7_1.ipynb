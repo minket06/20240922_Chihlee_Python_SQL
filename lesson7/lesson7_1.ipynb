{
 "cells": [
  {
   "cell_type": "code",
   "execution_count": 10,
   "metadata": {},
   "outputs": [],
   "source": [
    "import psycopg2\n",
    "\n",
    "conn = psycopg2.connect(host='piRobert0301.local',database='mydatabase_a19',user='a19',password='raspberry')"
   ]
  },
  {
   "cell_type": "code",
   "execution_count": null,
   "metadata": {},
   "outputs": [],
   "source": [
    "# print(conn)\n",
    "sql='''\n",
    "CREATE TABLE IF NOT EXISTS 市場(\n",
    "\tname VARCHAR(20),\n",
    "\tcountry VARCHAR(20),\n",
    "\tPRIMARY KEY(name)\n",
    ");\n",
    "'''\n",
    "cursor = conn.cursor()\n",
    "# type(cursor)\n",
    "cursor.execute(sql)\n",
    "\n",
    "sql1='''\n",
    "    CREATE TABLE IF NOT EXISTS 股市(\n",
    "\tstock_id SERIAL,\n",
    "\tdate DATE,\n",
    "\topen NUMERIC(17,10),\n",
    "\thigh NUMERIC(17,10),\n",
    "\tlow NUMERIC(17,10),\n",
    "\tclose NUMERIC(17,10),\n",
    "\tadj_close NUMERIC(17,10),\n",
    "\tvolume BIGINT DEFAULT 0,\n",
    "\tname VARCHAR(20),\n",
    "\tPRIMARY KEY(stock_id),\n",
    "\tFOREIGN KEY(name) REFERENCES 市場(name) \n",
    "\tON DELETE NO ACTION\n",
    "\tON UPDATE CASCADE\n",
    ");\n",
    "'''\n",
    "\n",
    "cursor.execute(sql1)\n",
    "conn.commit()\n",
    "cursor.close()\n",
    "conn.close()"
   ]
  }
 ],
 "metadata": {
  "kernelspec": {
   "display_name": "chihlee_sql",
   "language": "python",
   "name": "python3"
  },
  "language_info": {
   "codemirror_mode": {
    "name": "ipython",
    "version": 3
   },
   "file_extension": ".py",
   "mimetype": "text/x-python",
   "name": "python",
   "nbconvert_exporter": "python",
   "pygments_lexer": "ipython3",
   "version": "3.10.15"
  }
 },
 "nbformat": 4,
 "nbformat_minor": 2
}
